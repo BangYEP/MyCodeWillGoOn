{
 "cells": [
  {
   "cell_type": "code",
   "execution_count": 52,
   "metadata": {},
   "outputs": [],
   "source": [
    "import pandas as pd\n",
    "import numpy as np\n",
    "import matplotlib.pyplot as plt\n",
    "from scipy.stats import pearsonr\n",
    "from scipy.spatial.distance import correlation"
   ]
  },
  {
   "cell_type": "code",
   "execution_count": 53,
   "metadata": {},
   "outputs": [],
   "source": [
    "train = pd.read_csv('train.csv')"
   ]
  },
  {
   "cell_type": "markdown",
   "metadata": {},
   "source": [
    "综合以下的分析，还是方法二最好。以下对方法二进行写法优化。"
   ]
  },
  {
   "cell_type": "code",
   "execution_count": 83,
   "metadata": {},
   "outputs": [],
   "source": [
    "import regex as re\n",
    "\n",
    "def get_title(name):\n",
    "    title_search = re.search('([A-Za-z]+)\\.', name)\n",
    "    \n",
    "    if title_search:\n",
    "        return title_search.group(1)\n",
    "    return\"\"\n",
    "\n",
    "titles = train[\"Name\"].apply(get_title)\n",
    "train[\"Title\"]=titles\n",
    "\n",
    "def generalize_titles(frame):\n",
    "    title = frame['Title']\n",
    "    if title in ['Mr','Sir']:\n",
    "                 return '1'\n",
    "    elif title in ['Miss','Mlle']:\n",
    "                 return '3'\n",
    "    elif title in ['Mrs','Mme','Ms','Lady','Countess']:\n",
    "                 return '4'\n",
    "    else:\n",
    "        return '2'\n",
    "    return title\n",
    "\n",
    "train['Title'] = train.apply(generalize_titles, axis=1)\n",
    "\n",
    "train = train.astype(dtype = {\"Title\":\"int64\"})"
   ]
  },
  {
   "cell_type": "markdown",
   "metadata": {},
   "source": [
    "# 分类方法对比"
   ]
  },
  {
   "cell_type": "markdown",
   "metadata": {},
   "source": [
    "方法一：把title分成有社会地位和无社会地位，分别用0和1代表"
   ]
  },
  {
   "cell_type": "code",
   "execution_count": 80,
   "metadata": {},
   "outputs": [
    {
     "name": "stdout",
     "output_type": "stream",
     "text": [
      "Mr          517\n",
      "Miss        182\n",
      "Mrs         125\n",
      "Master       40\n",
      "Dr            7\n",
      "Rev           6\n",
      "Mlle          2\n",
      "Col           2\n",
      "Major         2\n",
      "Lady          1\n",
      "Countess      1\n",
      "Jonkheer      1\n",
      "Ms            1\n",
      "Sir           1\n",
      "Capt          1\n",
      "Don           1\n",
      "Mme           1\n",
      "Name: Name, dtype: int64\n"
     ]
    }
   ],
   "source": [
    "# (1)Get title\n",
    "import regex as re\n",
    "\n",
    "def get_title(name):\n",
    "    title_search = re.search('([A-Za-z]+)\\.', name)\n",
    "    \n",
    "    if title_search:\n",
    "        return title_search.group(1)\n",
    "    return\"\"\n",
    "\n",
    "titles = train[\"Name\"].apply(get_title)\n",
    "print(pd.value_counts(titles))\n",
    "\n",
    "# Generalize title: 把title分成有社会地位和无社会地位，分别用0和1代表\n",
    "title_mapping = {\"Mr\": 1, \"Miss\": 1, \"Mrs\": 1, \"Master\": 0, \"Dr\": 0, \"Rev\": 0, \"Major\": 0, \"Col\": 0, \"Mlle\": 1, \"Mme\": 1, \"Don\": 0, \"Lady\": 1, \"Countess\": 0, \"Jonkheer\": 0, \"Sir\": 1, \"Capt\": 0, \"Ms\": 1}\n",
    "for k,v in title_mapping.items():\n",
    "    titles[titles == k] = v\n",
    "    \n",
    "train[\"Title\"]=titles\n",
    "\n",
    "# 把Title列的数据类型转变为int\n",
    "train = train.astype(dtype = {\"Title\":\"int64\"})"
   ]
  },
  {
   "cell_type": "code",
   "execution_count": 153,
   "metadata": {},
   "outputs": [
    {
     "data": {
      "image/png": "[encoded data removed]",
      "text/plain": [
       "<matplotlib.figure.Figure at 0x114487080>"
      ]
     },
     "metadata": {},
     "output_type": "display_data"
    }
   ],
   "source": [
    "# plot\n",
    "survived_1 = train.Title[train.Survived == 1].value_counts()\n",
    "survived_0 = train.Title[train.Survived == 0].value_counts()\n",
    "df = pd.DataFrame({u'Survived':survived_1, u'Not Survived':survived_0})\n",
    "df.plot(kind = 'bar',stacked=True,width=0.5,figsize=(5,5))\n",
    "plt.title(u'Survival Information by Title')\n",
    "plt.xlabel(u'Title')\n",
    "plt.ylabel(u'Amount')\n",
    "plt.show()"
   ]
  },
  {
   "cell_type": "code",
   "execution_count": 154,
   "metadata": {},
   "outputs": [
    {
     "data": {
      "text/plain": [
       "(-0.051046321544167293, 0.12786703866625065)"
      ]
     },
     "execution_count": 154,
     "metadata": {},
     "output_type": "execute_result"
    }
   ],
   "source": [
    "# 用皮尔逊系数计算这样分类对生存率的影响\n",
    "x = train.Title\n",
    "y = train.Survived\n",
    "\n",
    "# return Pearson's correlation coefficient, 2-tailed p-value) \n",
    "pearsonr(x,y)\n",
    "\n",
    "#得到的结果表面title和生存率没有线性关系，但是不能排除有非线性关系，再用Distance Correlation跑一下，看看会不会有差别"
   ]
  },
  {
   "cell_type": "code",
   "execution_count": 155,
   "metadata": {},
   "outputs": [
    {
     "data": {
      "text/plain": [
       "1.0510463215441672"
      ]
     },
     "execution_count": 155,
     "metadata": {},
     "output_type": "execute_result"
    }
   ],
   "source": [
    "# 用distance correlation看title和最后结果的关系\n",
    "\n",
    "trainx = train['Title']\n",
    "trainy = train['Survived']\n",
    "\n",
    "x = trainx.as_matrix()\n",
    "y = trainy.as_matrix()\n",
    "\n",
    "correlation(x,y)\n",
    "\n",
    "# Correlational distance goes from 0 - 2, with 0 being PERFECT correlation, 1 being no correlation, and 2 being PERFECT ANTICORRELATION.\n",
    "# So a small correlational distance value means close together in correlational space (small angular difference). Corr = 1 – dist; Corr dist = 1 – corr; \n",
    "# so while a high correlation = high relationship; LOW CORR DISTINANCE = high relationship\n",
    "# 最终的值是1.05，说明这样分类跟survival没有很大的关系"
   ]
  },
  {
   "cell_type": "markdown",
   "metadata": {},
   "source": [
    "方法二：先分成男女，再用影响每个性别生还率的因素把性别内部分成两类\n",
    "1-Male without status, 2-Male with status, 3-Female Unmarried, 4-Female Married + Female with status"
   ]
  },
  {
   "cell_type": "code",
   "execution_count": null,
   "metadata": {},
   "outputs": [],
   "source": [
    "import regex as re\n",
    "\n",
    "def get_title(name):\n",
    "    title_search = re.search('([A-Za-z]+)\\.', name)\n",
    "    \n",
    "    if title_search:\n",
    "        return title_search.group(1)\n",
    "    return\"\"\n",
    "\n",
    "titles = train[\"Name\"].apply(get_title)\n",
    "print(pd.value_counts(titles))\n",
    "\n",
    "title_mapping = {\"Mr\": 1, \"Miss\": 3, \"Mrs\": 4, \"Master\": 2, \"Dr\": 2, \"Rev\": 2, \"Major\": 2, \"Col\": 2, \"Mlle\": 3, \"Mme\": 4, \"Don\": 2, \"Lady\": 4, \"Countess\": 4, \"Jonkheer\": 2, \"Sir\": 1, \"Capt\": 2, \"Ms\": 4}\n",
    "for k,v in title_mapping.items():\n",
    "    titles[titles == k] = v\n",
    "\n",
    "train[\"Title\"]=titles\n",
    "\n",
    "# 把Title列的数据类型转变为int\n",
    "train = train.astype(dtype = {\"Title\":\"int64\"})"
   ]
  },
  {
   "cell_type": "code",
   "execution_count": 146,
   "metadata": {},
   "outputs": [
    {
     "data": {
      "image/png": "[encoded data removed]",
      "text/plain": [
       "<matplotlib.figure.Figure at 0x113ffc198>"
      ]
     },
     "metadata": {},
     "output_type": "display_data"
    }
   ],
   "source": [
    "survived_1 = train.Title[train.Survived == 1].value_counts()\n",
    "survived_0 = train.Title[train.Survived == 0].value_counts()\n",
    "df = pd.DataFrame({u'Survived':survived_1, u'Not Survived':survived_0})\n",
    "df.plot(kind = 'bar',stacked=True,width=0.5,figsize=(5,5))\n",
    "plt.title(u'Survival Information by Title')\n",
    "plt.xlabel(u'Title')\n",
    "plt.ylabel(u'Amount')\n",
    "plt.show()"
   ]
  },
  {
   "cell_type": "code",
   "execution_count": 147,
   "metadata": {},
   "outputs": [
    {
     "data": {
      "text/plain": [
       "(0.55845512465171021, 3.336161302184094e-74)"
      ]
     },
     "execution_count": 147,
     "metadata": {},
     "output_type": "execute_result"
    }
   ],
   "source": [
    "# 用皮尔逊系数计算这样分类对生存率的影响\n",
    "x = train.Title\n",
    "y = train.Survived\n",
    "\n",
    "# return Pearson's correlation coefficient, 2-tailed p-value) \n",
    "pearsonr(x,y)\n",
    "\n",
    "#结果表明两者有比较明显的线性关系，系数大于0.6就可以表示非常显著了"
   ]
  },
  {
   "cell_type": "code",
   "execution_count": 148,
   "metadata": {},
   "outputs": [
    {
     "data": {
      "text/plain": [
       "0.4415448753482899"
      ]
     },
     "execution_count": 148,
     "metadata": {},
     "output_type": "execute_result"
    }
   ],
   "source": [
    "# 用distance correlation看title和最后结果的关系\n",
    "\n",
    "trainx = train['Title']\n",
    "trainy = train['Survived']\n",
    "\n",
    "x = trainx.as_matrix()\n",
    "y = trainy.as_matrix()\n",
    "\n",
    "correlation(x,y)"
   ]
  },
  {
   "cell_type": "markdown",
   "metadata": {},
   "source": [
    "方法三：分成三类，1- Mr,Sir; 2-Miss,Mrs,Mlle,Lady,Mme,Ms; 3-rare titles"
   ]
  },
  {
   "cell_type": "code",
   "execution_count": null,
   "metadata": {},
   "outputs": [],
   "source": [
    "import regex as re\n",
    "\n",
    "def get_title(name):\n",
    "    title_search = re.search('([A-Za-z]+)\\.', name)\n",
    "    \n",
    "    if title_search:\n",
    "        return title_search.group(1)\n",
    "    return\"\"\n",
    "\n",
    "titles = train[\"Name\"].apply(get_title)\n",
    "print(pd.value_counts(titles))\n",
    "\n",
    "title_mapping = {\"Mr\": 1, \"Miss\": 2, \"Mrs\": 2, \"Master\": 3, \"Dr\": 3, \"Rev\": 3, \"Major\": 3, \"Col\": 3, \"Mlle\": 1, \"Mme\": 2, \"Don\": 3, \"Lady\": 2, \"Countess\": 3, \"Jonkheer\": 3, \"Sir\": 1, \"Capt\": 3, \"Ms\": 2}\n",
    "for k,v in title_mapping.items():\n",
    "    titles[titles == k] = v\n",
    "    \n",
    "train[\"Title\"]=titles\n",
    "\n",
    "# 把Title列的数据类型转变为int\n",
    "train = train.astype(dtype = {\"Title\":\"int64\"})"
   ]
  },
  {
   "cell_type": "code",
   "execution_count": 157,
   "metadata": {},
   "outputs": [
    {
     "data": {
      "image/png": "[encoded data removed]",
      "text/plain": [
       "<matplotlib.figure.Figure at 0x1144931d0>"
      ]
     },
     "metadata": {},
     "output_type": "display_data"
    }
   ],
   "source": [
    "# plot\n",
    "survived_1 = train.Title[train.Survived == 1].value_counts()\n",
    "survived_0 = train.Title[train.Survived == 0].value_counts()\n",
    "df = pd.DataFrame({u'Survived':survived_1, u'Not Survived':survived_0})\n",
    "df.plot(kind = 'bar',stacked=True,width=0.5,figsize=(5,5))\n",
    "plt.title(u'Survival Information by Title')\n",
    "plt.xlabel(u'Title')\n",
    "plt.ylabel(u'Amount')\n",
    "plt.show()"
   ]
  },
  {
   "cell_type": "code",
   "execution_count": 158,
   "metadata": {},
   "outputs": [
    {
     "data": {
      "text/plain": [
       "(0.4497320397462386, 1.4130395601885047e-45)"
      ]
     },
     "execution_count": 158,
     "metadata": {},
     "output_type": "execute_result"
    }
   ],
   "source": [
    "# 用皮尔逊系数计算这样分类对生存率的影响\n",
    "x = train.Title\n",
    "y = train.Survived\n",
    "\n",
    "# return Pearson's correlation coefficient, 2-tailed p-value) \n",
    "pearsonr(x,y)"
   ]
  },
  {
   "cell_type": "code",
   "execution_count": 159,
   "metadata": {},
   "outputs": [
    {
     "data": {
      "text/plain": [
       "0.55026796025376146"
      ]
     },
     "execution_count": 159,
     "metadata": {},
     "output_type": "execute_result"
    }
   ],
   "source": [
    "# 用distance correlation看title和最后结果的关系\n",
    "\n",
    "trainx = train['Title']\n",
    "trainy = train['Survived']\n",
    "\n",
    "x = trainx.as_matrix()\n",
    "y = trainy.as_matrix()\n",
    "\n",
    "correlation(x,y)"
   ]
  },
  {
   "cell_type": "markdown",
   "metadata": {},
   "source": [
    "方法四：考虑到‘Mother’不影响生还率，所以根据是否结婚来对女性进行分类也就不太合理，但是title的确是可以影响男性的生还率，这里提出方法四，把所有title分成三类，1-male with status, 2-male without status, 3-female"
   ]
  },
  {
   "cell_type": "code",
   "execution_count": 74,
   "metadata": {},
   "outputs": [
    {
     "name": "stdout",
     "output_type": "stream",
     "text": [
      "Mr          517\n",
      "Miss        182\n",
      "Mrs         125\n",
      "Master       40\n",
      "Dr            7\n",
      "Rev           6\n",
      "Mlle          2\n",
      "Col           2\n",
      "Major         2\n",
      "Lady          1\n",
      "Countess      1\n",
      "Jonkheer      1\n",
      "Ms            1\n",
      "Sir           1\n",
      "Capt          1\n",
      "Don           1\n",
      "Mme           1\n",
      "Name: Name, dtype: int64\n"
     ]
    }
   ],
   "source": [
    "import regex as re\n",
    "\n",
    "train['Sex'].replace('female',0,inplace=True)\n",
    "train['Sex'].replace('male',1,inplace =True)\n",
    "\n",
    "def get_title(name):\n",
    "    title_search = re.search('([A-Za-z]+)\\.', name)\n",
    "    \n",
    "    if title_search:\n",
    "        return title_search.group(1)\n",
    "    return\"\"\n",
    "\n",
    "titles = train[\"Name\"].apply(get_title)\n",
    "print(pd.value_counts(titles))\n",
    "\n",
    "train['Title']=titles"
   ]
  },
  {
   "cell_type": "code",
   "execution_count": 79,
   "metadata": {},
   "outputs": [],
   "source": [
    "def generalize_titles(frame):\n",
    "    title = frame['Title']\n",
    "    if title in ['Rev','Major','Col','Don','Capt','Jonkheer','Master','Dr']:\n",
    "                 return '1'\n",
    "    elif title in ['Mr','Sir']:\n",
    "                 return '2'\n",
    "    elif title in ['Miss','Mrs','Mlle','Mme','Ms','Lady','Countess']:\n",
    "                 return '3'\n",
    "    else:\n",
    "        return '1'\n",
    "    return title\n",
    "\n",
    "train['Title'] = train.apply(generalize_titles, axis=1)\n",
    "train = train.astype(dtype = {\"Title\":\"int64\"})"
   ]
  },
  {
   "cell_type": "code",
   "execution_count": 76,
   "metadata": {},
   "outputs": [
    {
     "data": {
      "image/png": "[encoded data removed]",
      "text/plain": [
       "<matplotlib.figure.Figure at 0x1135550f0>"
      ]
     },
     "metadata": {},
     "output_type": "display_data"
    }
   ],
   "source": [
    "survived_1 = train.Title[train.Survived == 1].value_counts()\n",
    "survived_0 = train.Title[train.Survived == 0].value_counts()\n",
    "df = pd.DataFrame({u'Survived':survived_1, u'Not Survived':survived_0})\n",
    "df.plot(kind = 'bar',stacked=True,width=0.5,figsize=(5,5))\n",
    "plt.title(u'Survival Information by Title')\n",
    "plt.xlabel(u'Title')\n",
    "plt.ylabel(u'Amount')\n",
    "plt.show()"
   ]
  },
  {
   "cell_type": "code",
   "execution_count": 77,
   "metadata": {},
   "outputs": [
    {
     "data": {
      "text/plain": [
       "(0.42430015367610319, 3.0237790796785538e-40)"
      ]
     },
     "execution_count": 77,
     "metadata": {},
     "output_type": "execute_result"
    }
   ],
   "source": [
    "x = train.Title\n",
    "y = train.Survived\n",
    "# return Pearson's correlation coefficient, 2-tailed p-value) \n",
    "pearsonr(x,y)"
   ]
  },
  {
   "cell_type": "code",
   "execution_count": 78,
   "metadata": {},
   "outputs": [
    {
     "data": {
      "text/plain": [
       "0.57569984632389681"
      ]
     },
     "execution_count": 78,
     "metadata": {},
     "output_type": "execute_result"
    }
   ],
   "source": [
    "# 用distance correlation看title和最后结果的关系\n",
    "\n",
    "trainx = train['Title']\n",
    "trainy = train['Survived']\n",
    "\n",
    "x = trainx.as_matrix()\n",
    "y = trainy.as_matrix()\n",
    "\n",
    "correlation(x,y)"
   ]
  }
 ],
 "metadata": {
  "kernelspec": {
   "display_name": "Python 3",
   "language": "python",
   "name": "python3"
  },
  "language_info": {
   "codemirror_mode": {
    "name": "ipython",
    "version": 3
   },
   "file_extension": ".py",
   "mimetype": "text/x-python",
   "name": "python",
   "nbconvert_exporter": "python",
   "pygments_lexer": "ipython3",
   "version": "3.6.3"
  }
 },
 "nbformat": 4,
 "nbformat_minor": 2
}
